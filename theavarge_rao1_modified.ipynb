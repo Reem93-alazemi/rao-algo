{
  "nbformat": 4,
  "nbformat_minor": 0,
  "metadata": {
    "colab": {
      "name": "theavarge-rao1-modified.ipynb",
      "provenance": [],
      "collapsed_sections": [],
      "authorship_tag": "ABX9TyNMKs1J9e0YT0Y8id1P+rL4",
      "include_colab_link": true
    },
    "kernelspec": {
      "display_name": "Python 3",
      "name": "python3"
    }
  },
  "cells": [
    {
      "cell_type": "markdown",
      "metadata": {
        "id": "view-in-github",
        "colab_type": "text"
      },
      "source": [
        "<a href=\"https://colab.research.google.com/github/Reem93-alazemi/rao-algo/blob/main/theavarge_rao1_modified.ipynb\" target=\"_parent\"><img src=\"https://colab.research.google.com/assets/colab-badge.svg\" alt=\"Open In Colab\"/></a>"
      ]
    },
    {
      "cell_type": "code",
      "metadata": {
        "id": "qZYrn8XH9fwn"
      },
      "source": [
        "#libaraies \n",
        "import math\n",
        "import random\n",
        "import numpy as np\n",
        "import matplotlib.pyplot as plt\n",
        "import scipy.special as sps"
      ],
      "execution_count": 66,
      "outputs": []
    },
    {
      "cell_type": "code",
      "metadata": {
        "id": "oFK6L6tD91eB"
      },
      "source": [
        " #Global scope\n",
        " maxfes = 10  # Maximum functions evaluation\n",
        " dim = 2  # Number of design variables\n",
        " SearchAgents_no = 5  # Population size\n",
        " Max_iter = math.floor(maxfes / SearchAgents_no)  # Maximum number of iterations\n",
        " lb = -5.12 * np.ones(dim)  # lower bound\n",
        " ub = 5.12 * np.ones(dim)  # upper bound"
      ],
      "execution_count": 67,
      "outputs": []
    },
    {
      "cell_type": "code",
      "metadata": {
        "id": "weu3Yd-YPHGI"
      },
      "source": [
        "#calculate fitness value \n",
        "def fitness(particle):\n",
        "    y = 0\n",
        "    for i in range(dim):\n",
        "      if y > 5.12 or y < -5.12:\n",
        "        y= y+ 10*i + 10*particle[i]**2 # the function   \n",
        "      else: y =y+ 10*i + particle[i] ** 2 - 10 * math.cos(2 * math.pi * particle[i])\n",
        "\n",
        "    return y"
      ],
      "execution_count": 68,
      "outputs": []
    },
    {
      "cell_type": "code",
      "metadata": {
        "id": "_FmcGbTUPU7D"
      },
      "source": [
        "def rao():\n",
        "\n",
        "  # initialzing arrays to store the values \n",
        " Positions = np.zeros((SearchAgents_no, dim))   # search agent position\n",
        " best_pos = np.zeros(dim)  # search agent's best position\n",
        " worst_pos = np.zeros(dim)  # search agent's worst position\n",
        "\n",
        " finval = np.zeros(Max_iter)  # best score of each iteration\n",
        " f1 = np.zeros(SearchAgents_no)  # function value of current population\n",
        " f2 = np.zeros(SearchAgents_no)  # function value of updated population\n",
        "\n",
        " \n",
        " for i in range(dim):\n",
        "    Positions[:, i] = np.random.uniform(0, 1, SearchAgents_no) * (ub[i] - lb[i]) + lb[i]\n",
        " for k in range(0, Max_iter):\n",
        "    best_score = float(\"inf\")\n",
        "    worst_score = float(\"-inf\")\n",
        "    for i in range(0, SearchAgents_no):\n",
        "        # Return back the search agents that go beyond the boundaries of the search space\n",
        "        for j in range(dim):\n",
        "            Positions[i, j] = np.clip(Positions[i, j], lb[j], ub[j])\n",
        "        f1[i] = fitness(Positions[i, :])\n",
        "        if f1[i] < best_score:\n",
        "            best_score = f1[i].copy()  # Update best\n",
        "            best_pos = Positions[i, :].copy()\n",
        "        if f1[i] > worst_score:\n",
        "            worst_score = f1[i].copy();  # Update worst\n",
        "            worst_pos = Positions[i, :].copy()\n",
        "    # Update the Position of search agents including omegas\n",
        "    finval[k] = best_score\n",
        "    print(\"The best solution is: \", best_score, \" in iteration number: \", k + 1)\n",
        "    Positioncopy = Positions.copy()\n",
        "    for i in range(0, SearchAgents_no):\n",
        "        for j in range(0, dim):\n",
        "            r1 = random.random()  # r1 is a random number in [0,1]\n",
        "            Positions[i, j] = Positions[i, j] + r1 * (best_pos[j] - worst_pos[j])  # change in position\n",
        "            Positions[i, j] = np.clip(Positions[i, j], lb[j], ub[j])\n",
        "        f2[i] = fitness(Positions[i, :])\n",
        "    for i in range(0, SearchAgents_no):\n",
        "        if f1[i] < f2[i]:\n",
        "            Positions[i, :] = Positioncopy[i, :]\n",
        " best_score = np.amin(finval)\n",
        " print(\"The final best from all iteration is \", best_score)\n",
        " return best_score \n"
      ],
      "execution_count": 69,
      "outputs": []
    },
    {
      "cell_type": "code",
      "metadata": {
        "id": "eM4pH3NkPcfZ",
        "outputId": "5380ef6e-332d-414b-992b-eb17b48d64ee",
        "colab": {
          "base_uri": "https://localhost:8080/",
          "height": 729
        }
      },
      "source": [
        "#the main \n",
        "best_arr = [tr]\n",
        "tr = int(input('Enter the number of trials: '))\n",
        "for i in range(tr):\n",
        "  bestsc = rao()\n",
        "  print(\"The trial best is: \",  bestsc)\n",
        "  print(\"---------------------------: \")\n",
        "  best_arr.append(bestsc)\n",
        "\n",
        "samples = [np.mean( best_arr)]\n",
        "print(\"The avarage is: \",  samples)\n",
        "plt.hist(samples)\n",
        "plt.xlabel('the avarage')\n",
        "plt.ylabel('trial')\n",
        "plt.show()\n"
      ],
      "execution_count": 70,
      "outputs": [
        {
          "output_type": "stream",
          "text": [
            "Enter the number of trials: 5\n",
            "The best solution is:  4.10322162795107  in iteration number:  1\n",
            "The best solution is:  4.10322162795107  in iteration number:  2\n",
            "The final best from all iteration is  4.10322162795107\n",
            "The trial best is:  4.10322162795107\n",
            "---------------------------: \n",
            "The best solution is:  30.003740958942863  in iteration number:  1\n",
            "The best solution is:  9.34006912959636  in iteration number:  2\n",
            "The final best from all iteration is  9.34006912959636\n",
            "The trial best is:  9.34006912959636\n",
            "---------------------------: \n",
            "The best solution is:  3.710069559064525  in iteration number:  1\n",
            "The best solution is:  3.710069559064525  in iteration number:  2\n",
            "The final best from all iteration is  3.710069559064525\n",
            "The trial best is:  3.710069559064525\n",
            "---------------------------: \n",
            "The best solution is:  21.335298592120097  in iteration number:  1\n",
            "The best solution is:  14.332518850526792  in iteration number:  2\n",
            "The final best from all iteration is  14.332518850526792\n",
            "The trial best is:  14.332518850526792\n",
            "---------------------------: \n",
            "The best solution is:  10.844735923629328  in iteration number:  1\n",
            "The best solution is:  10.844735923629328  in iteration number:  2\n",
            "The final best from all iteration is  10.844735923629328\n",
            "The trial best is:  10.844735923629328\n",
            "---------------------------: \n",
            "The avarage is:  [7.888435848461346]\n"
          ],
          "name": "stdout"
        },
        {
          "output_type": "display_data",
          "data": {
            "image/png": "[encoded data removed]",
            "text/plain": [
              "<Figure size 432x288 with 1 Axes>"
            ]
          },
          "metadata": {
            "tags": [],
            "needs_background": "light"
          }
        }
      ]
    }
  ]
}