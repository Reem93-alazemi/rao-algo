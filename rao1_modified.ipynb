{
  "nbformat": 4,
  "nbformat_minor": 0,
  "metadata": {
    "colab": {
      "name": "rao1-modified.ipynb",
      "provenance": [],
      "collapsed_sections": [],
      "authorship_tag": "ABX9TyMN8VZEAocDaUUYqKyAEgND",
      "include_colab_link": true
    },
    "kernelspec": {
      "name": "python3",
      "display_name": "Python 3"
    }
  },
  "cells": [
    {
      "cell_type": "markdown",
      "metadata": {
        "id": "view-in-github",
        "colab_type": "text"
      },
      "source": [
        "<a href=\"https://colab.research.google.com/github/Reem93-alazemi/rao-algo/blob/main/rao1_modified.ipynb\" target=\"_parent\"><img src=\"https://colab.research.google.com/assets/colab-badge.svg\" alt=\"Open In Colab\"/></a>"
      ]
    },
    {
      "cell_type": "code",
      "metadata": {
        "id": "qZYrn8XH9fwn"
      },
      "source": [
        "#libaraies \n",
        "import math\n",
        "import random\n",
        "import numpy as np"
      ],
      "execution_count": 46,
      "outputs": []
    },
    {
      "cell_type": "code",
      "metadata": {
        "id": "oFK6L6tD91eB"
      },
      "source": [
        " #Global scope\n",
        " maxfes = 10  # Maximum functions evaluation\n",
        " dim = 2  # Number of design variables\n",
        " SearchAgents_no = 5  # Population size\n",
        " Max_iter = math.floor(maxfes / SearchAgents_no)  # Maximum number of iterations\n",
        " lb = -5.12 * np.ones(dim)  # lower bound\n",
        " ub = 5.12 * np.ones(dim)  # upper bound"
      ],
      "execution_count": 47,
      "outputs": []
    },
    {
      "cell_type": "code",
      "metadata": {
        "id": "weu3Yd-YPHGI"
      },
      "source": [
        "#calculate fitness value \n",
        "def fitness(particle):\n",
        "    y = 0\n",
        "    for i in range(dim):\n",
        "      if y > 5.12 or y < -5.12:\n",
        "        y= y+ 10*i + 10*particle[i]**2 # the function   \n",
        "      else: y =y+ 10*i + particle[i] ** 2 - 10 * math.cos(2 * math.pi * particle[i])\n",
        "\n",
        "    return y"
      ],
      "execution_count": 48,
      "outputs": []
    },
    {
      "cell_type": "code",
      "metadata": {
        "id": "_FmcGbTUPU7D"
      },
      "source": [
        "def rao():\n",
        "  Positions = np.zeros((SearchAgents_no, dim))  # search agent position\n",
        "  best_pos = np.zeros(dim)  # search agent's best position\n",
        "  worst_pos = np.zeros(dim)  # search agent's worst position\n",
        "  finval = np.zeros(Max_iter)  # best score of each iteration\n",
        "  f1 = np.zeros(SearchAgents_no)  # function value of current population\n",
        "  f2 = np.zeros(SearchAgents_no)  # function value of updated population \n",
        "\n",
        "  for i in range(dim):\n",
        "   Positions[:, i] = np.random.uniform(0, 1, SearchAgents_no) * (ub[i] - lb[i]) + lb[i]\n",
        "  for k in range(0, Max_iter):\n",
        "       best_score = float(\"inf\")\n",
        "       worst_score = float(\"-inf\")\n",
        "  for i in range(0, SearchAgents_no):\n",
        "        # Return back the search agents that go beyond the boundaries of the search space\n",
        "          for j in range(dim):\n",
        "            Positions[i, j] = np.clip(Positions[i, j], lb[j], ub[j])\n",
        "            f1[i] = fitness(Positions[i, :])\n",
        "            if f1[i] < best_score:\n",
        "              best_score = f1[i].copy()  # Update best\n",
        "              best_pos = Positions[i, :].copy()\n",
        "            if f1[i] > worst_score:\n",
        "              worst_score = f1[i].copy();  # Update worst\n",
        "              worst_pos = Positions[i, :].copy()\n",
        "    # Update the Position of search agents including omegas\n",
        "          finval[k] = best_score\n",
        "          print(\"The best solution is: \", best_score, \" in iteration number: \", k + 1)\n",
        "          Positioncopy = Positions.copy()\n",
        "          for i in range(0, SearchAgents_no):\n",
        "           for j in range(0, dim):\n",
        "            r1 = random.random()  # r1 is a random number in [0,1]\n",
        "            Positions[i, j] = Positions[i, j] + r1 * (best_pos[j] - worst_pos[j])  # change in position\n",
        "\n",
        "            Positions[i, j] = np.clip(Positions[i, j], lb[j], ub[j])\n",
        "            f2[i] = fitness(Positions[i, :])\n",
        "           for i in range(0, SearchAgents_no):\n",
        "            if f1[i] < f2[i]:\n",
        "              Positions[i, :] = Positioncopy[i, :]\n",
        "  best_score = np.amin(rao)\n",
        "  print(\"The best solution is: \", best_score)"
      ],
      "execution_count": 49,
      "outputs": []
    },
    {
      "cell_type": "code",
      "metadata": {
        "id": "eM4pH3NkPcfZ",
        "outputId": "db8ac11b-e5d0-4ac5-9986-20f763b4fbad",
        "colab": {
          "base_uri": "https://localhost:8080/"
        }
      },
      "source": [
        "#the main \n",
        "\n",
        "tr = int(input('Enter the number of trials: '))\n",
        "for i in range(tr):\n",
        "  rao()"
      ],
      "execution_count": 50,
      "outputs": [
        {
          "output_type": "stream",
          "text": [
            "Enter the number of trials: 3\n",
            "The best solution is:  30.550067307414867  in iteration number:  2\n",
            "The best solution is:  30.550067307414867  in iteration number:  2\n",
            "The best solution is:  30.550067307414867  in iteration number:  2\n",
            "The best solution is:  30.550067307414867  in iteration number:  2\n",
            "The best solution is:  24.036729833671693  in iteration number:  2\n",
            "The best solution is:  <function rao at 0x7f76866d0ea0>\n",
            "The best solution is:  67.42359162963156  in iteration number:  2\n",
            "The best solution is:  54.23721118247086  in iteration number:  2\n",
            "The best solution is:  34.73559677103199  in iteration number:  2\n",
            "The best solution is:  34.73559677103199  in iteration number:  2\n",
            "The best solution is:  34.73559677103199  in iteration number:  2\n",
            "The best solution is:  <function rao at 0x7f76866d0ea0>\n",
            "The best solution is:  201.00214319168234  in iteration number:  2\n",
            "The best solution is:  201.00214319168234  in iteration number:  2\n",
            "The best solution is:  27.02368026533629  in iteration number:  2\n",
            "The best solution is:  27.02368026533629  in iteration number:  2\n",
            "The best solution is:  27.02368026533629  in iteration number:  2\n",
            "The best solution is:  <function rao at 0x7f76866d0ea0>\n"
          ],
          "name": "stdout"
        }
      ]
    }
  ]
}