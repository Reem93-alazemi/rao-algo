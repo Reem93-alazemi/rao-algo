{
  "nbformat": 4,
  "nbformat_minor": 0,
  "metadata": {
    "colab": {
      "name": "Copy of rao1-modified.ipynb",
      "provenance": [],
      "collapsed_sections": [],
      "authorship_tag": "ABX9TyO69AzzPOMm1CtUmz2hbPrA",
      "include_colab_link": true
    },
    "kernelspec": {
      "display_name": "Python 3",
      "name": "python3"
    }
  },
  "cells": [
    {
      "cell_type": "markdown",
      "metadata": {
        "id": "view-in-github",
        "colab_type": "text"
      },
      "source": [
        "<a href=\"https://colab.research.google.com/github/Reem93-alazemi/rao-algo/blob/main/copy_of_rao1_modified.ipynb\" target=\"_parent\"><img src=\"https://colab.research.google.com/assets/colab-badge.svg\" alt=\"Open In Colab\"/></a>"
      ]
    },
    {
      "cell_type": "code",
      "metadata": {
        "id": "qZYrn8XH9fwn"
      },
      "source": [
        "#libaraies \n",
        "import math\n",
        "import random\n",
        "import numpy as np"
      ],
      "execution_count": 217,
      "outputs": []
    },
    {
      "cell_type": "code",
      "metadata": {
        "id": "oFK6L6tD91eB"
      },
      "source": [
        " #Global scope\n",
        " maxfes = 10  # Maximum functions evaluation\n",
        " dim = 2  # Number of design variables\n",
        " SearchAgents_no = 5  # Population size\n",
        " Max_iter = math.floor(maxfes / SearchAgents_no)  # Maximum number of iterations\n",
        " lb = -5.12 * np.ones(dim)  # lower bound\n",
        " ub = 5.12 * np.ones(dim)  # upper bound"
      ],
      "execution_count": 218,
      "outputs": []
    },
    {
      "cell_type": "code",
      "metadata": {
        "id": "weu3Yd-YPHGI"
      },
      "source": [
        "#calculate fitness value \n",
        "def fitness(particle):\n",
        "    y = 0\n",
        "    for i in range(dim):\n",
        "      if y > 5.12 or y < -5.12:\n",
        "        y= y+ 10*i + 10*particle[i]**2 # the function   \n",
        "      else: y =y+ 10*i + particle[i] ** 2 - 10 * math.cos(2 * math.pi * particle[i])\n",
        "\n",
        "    return y"
      ],
      "execution_count": 219,
      "outputs": []
    },
    {
      "cell_type": "code",
      "metadata": {
        "id": "_FmcGbTUPU7D"
      },
      "source": [
        "def rao():\n",
        "\n",
        "  # initialzing arrays to store the values \n",
        " Positions = np.zeros((SearchAgents_no, dim))   # search agent position\n",
        " best_pos = np.zeros(dim)  # search agent's best position\n",
        " worst_pos = np.zeros(dim)  # search agent's worst position\n",
        "\n",
        " finval = np.zeros(Max_iter)  # best score of each iteration\n",
        " f1 = np.zeros(SearchAgents_no)  # function value of current population\n",
        " f2 = np.zeros(SearchAgents_no)  # function value of updated population\n",
        " for i in range(dim):\n",
        "    Positions[:, i] = np.random.uniform(0, 1, SearchAgents_no) * (ub[i] - lb[i]) + lb[i]\n",
        " for k in range(0, Max_iter):\n",
        "    best_score = float(\"inf\")\n",
        "    worst_score = float(\"-inf\")\n",
        "    for i in range(0, SearchAgents_no):\n",
        "        # Return back the search agents that go beyond the boundaries of the search space\n",
        "        for j in range(dim):\n",
        "            Positions[i, j] = np.clip(Positions[i, j], lb[j], ub[j])\n",
        "        f1[i] = fitness(Positions[i, :])\n",
        "        if f1[i] < best_score:\n",
        "            best_score = f1[i].copy()  # Update best\n",
        "            best_pos = Positions[i, :].copy()\n",
        "        if f1[i] > worst_score:\n",
        "            worst_score = f1[i].copy();  # Update worst\n",
        "            worst_pos = Positions[i, :].copy()\n",
        "    # Update the Position of search agents including omegas\n",
        "    finval[k] = best_score\n",
        "    print(\"The best solution is: \", best_score, \" in iteration number: \", k + 1)\n",
        "    Positioncopy = Positions.copy()\n",
        "    for i in range(0, SearchAgents_no):\n",
        "        for j in range(0, dim):\n",
        "            r1 = random.random()  # r1 is a random number in [0,1]\n",
        "            Positions[i, j] = Positions[i, j] + r1 * (best_pos[j] - worst_pos[j])  # change in position\n",
        "            Positions[i, j] = np.clip(Positions[i, j], lb[j], ub[j])\n",
        "        f2[i] = fitness(Positions[i, :])\n",
        "    for i in range(0, SearchAgents_no):\n",
        "        if f1[i] < f2[i]:\n",
        "            Positions[i, :] = Positioncopy[i, :]\n",
        " best_score = np.amin(finval)\n",
        " print(\"The opt  is: \", best_score)"
      ],
      "execution_count": 220,
      "outputs": []
    },
    {
      "cell_type": "code",
      "metadata": {
        "id": "eM4pH3NkPcfZ",
        "outputId": "bed189b6-9e31-4b80-cad3-ca8522e8594a",
        "colab": {
          "base_uri": "https://localhost:8080/"
        }
      },
      "source": [
        "#the main \n",
        "\n",
        "tr = int(input('Enter the number of trials: '))\n",
        "for i in range(tr):\n",
        "  rao()\n",
        "\n",
        "\n"
      ],
      "execution_count": 221,
      "outputs": [
        {
          "output_type": "stream",
          "text": [
            "Enter the number of trials: 5\n",
            "The best solution is:  20.990171965172784  in iteration number:  1\n",
            "The best solution is:  20.990171965172784  in iteration number:  2\n",
            "The opt  is:  20.990171965172784\n",
            "The best solution is:  4.247515660845069  in iteration number:  1\n",
            "The best solution is:  0.19564700114712608  in iteration number:  2\n",
            "The opt  is:  0.19564700114712608\n",
            "The best solution is:  31.383885190251497  in iteration number:  1\n",
            "The best solution is:  31.383885190251497  in iteration number:  2\n",
            "The opt  is:  31.383885190251497\n",
            "The best solution is:  45.395515232204104  in iteration number:  1\n",
            "The best solution is:  31.0191875591956  in iteration number:  2\n",
            "The opt  is:  31.0191875591956\n",
            "The best solution is:  7.925457124998694  in iteration number:  1\n",
            "The best solution is:  7.925457124998694  in iteration number:  2\n",
            "The opt  is:  7.925457124998694\n"
          ],
          "name": "stdout"
        }
      ]
    }
  ]
}