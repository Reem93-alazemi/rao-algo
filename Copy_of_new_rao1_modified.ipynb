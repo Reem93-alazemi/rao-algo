{
  "nbformat": 4,
  "nbformat_minor": 0,
  "metadata": {
    "colab": {
      "name": "Copy of new rao1-modified.ipynb",
      "provenance": [],
      "collapsed_sections": [],
      "authorship_tag": "ABX9TyOrDtrGAoeMUjzPMOcMzq5k",
      "include_colab_link": true
    },
    "kernelspec": {
      "display_name": "Python 3",
      "name": "python3"
    }
  },
  "cells": [
    {
      "cell_type": "markdown",
      "metadata": {
        "id": "view-in-github",
        "colab_type": "text"
      },
      "source": [
        "<a href=\"https://colab.research.google.com/github/Reem93-alazemi/rao-algo/blob/main/Copy_of_new_rao1_modified.ipynb\" target=\"_parent\"><img src=\"https://colab.research.google.com/assets/colab-badge.svg\" alt=\"Open In Colab\"/></a>"
      ]
    },
    {
      "cell_type": "code",
      "metadata": {
        "id": "qZYrn8XH9fwn"
      },
      "source": [
        "#libaraies \n",
        "import math\n",
        "import random\n",
        "import numpy as np\n",
        "import matplotlib.pyplot as plt\n",
        "import scipy.special as sps"
      ],
      "execution_count": 1,
      "outputs": []
    },
    {
      "cell_type": "code",
      "metadata": {
        "id": "oFK6L6tD91eB"
      },
      "source": [
        " #Global scope\n",
        " maxfes = 10  # Maximum functions evaluation\n",
        " dim = 2  # Number of design variables\n",
        " SearchAgents_no = 5  # Population size\n",
        " Max_iter = math.floor(maxfes / SearchAgents_no)  # Maximum number of iterations\n",
        " lb = -5.12 * np.ones(dim)  # lower bound\n",
        " ub = 5.12 * np.ones(dim)  # upper bound"
      ],
      "execution_count": 2,
      "outputs": []
    },
    {
      "cell_type": "code",
      "metadata": {
        "id": "weu3Yd-YPHGI"
      },
      "source": [
        "#calculate fitness value \n",
        "def fitness(particle):\n",
        "    y = 0\n",
        "    for i in range(dim):\n",
        "      if y > 5.12 or y < -5.12:\n",
        "        y= y+ 10*i + 10*particle[i]**2 # the function   \n",
        "      else: y =y+ 10*i + particle[i] ** 2 - 10 * math.cos(2 * math.pi * particle[i])\n",
        "\n",
        "    return y"
      ],
      "execution_count": 3,
      "outputs": []
    },
    {
      "cell_type": "code",
      "metadata": {
        "id": "_FmcGbTUPU7D"
      },
      "source": [
        "def rao():\n",
        "\n",
        "  # initialzing arrays to store the values \n",
        " Positions = np.zeros((SearchAgents_no, dim))   # search agent position\n",
        " best_pos = np.zeros(dim)  # search agent's best position\n",
        " worst_pos = np.zeros(dim)  # search agent's worst position\n",
        "\n",
        " finval = np.zeros(Max_iter)  # best score of each iteration\n",
        " f1 = np.zeros(SearchAgents_no)  # function value of current population\n",
        " f2 = np.zeros(SearchAgents_no)  # function value of updated population\n",
        "\n",
        " \n",
        " for i in range(dim):\n",
        "    Positions[:, i] = np.random.uniform(0, 1, SearchAgents_no) * (ub[i] - lb[i]) + lb[i]\n",
        " for k in range(0, Max_iter):\n",
        "    best_score = float(\"inf\")\n",
        "    worst_score = float(\"-inf\")\n",
        "    for i in range(0, SearchAgents_no):\n",
        "        # Return back the search agents that go beyond the boundaries of the search space\n",
        "        for j in range(dim):\n",
        "            Positions[i, j] = np.clip(Positions[i, j], lb[j], ub[j])\n",
        "        f1[i] = fitness(Positions[i, :])\n",
        "        if f1[i] < best_score:\n",
        "            best_score = f1[i].copy()  # Update best\n",
        "            best_pos = Positions[i, :].copy()\n",
        "        if f1[i] > worst_score:\n",
        "            worst_score = f1[i].copy();  # Update worst\n",
        "            worst_pos = Positions[i, :].copy()\n",
        "    # Update the Position of search agents including omegas\n",
        "    finval[k] = best_score\n",
        "    print(\"The best solution is: \", best_score, \" in iteration number: \", k + 1)\n",
        "    Positioncopy = Positions.copy()\n",
        "    for i in range(0, SearchAgents_no):\n",
        "        for j in range(0, dim):\n",
        "            r1 = random.random()  # r1 is a random number in [0,1]\n",
        "            Positions[i, j] = Positions[i, j] + r1 * (best_pos[j] - worst_pos[j])  # change in position\n",
        "            Positions[i, j] = np.clip(Positions[i, j], lb[j], ub[j])\n",
        "        f2[i] = fitness(Positions[i, :])\n",
        "    for i in range(0, SearchAgents_no):\n",
        "        if f1[i] < f2[i]:\n",
        "            Positions[i, :] = Positioncopy[i, :]\n",
        " best_score = np.amin(finval)\n",
        " print(\"The opt  is: \", best_score)\n",
        " return best_score \n"
      ],
      "execution_count": 4,
      "outputs": []
    },
    {
      "cell_type": "code",
      "metadata": {
        "id": "eM4pH3NkPcfZ",
        "outputId": "ad721e5d-b256-4095-a28c-a7f9b8145f3c",
        "colab": {
          "base_uri": "https://localhost:8080/",
          "height": 532
        }
      },
      "source": [
        "#the main \n",
        "\n",
        "tr = int(input('Enter the number of trials: '))\n",
        "for i in range(tr):\n",
        "  bestsc = rao()\n",
        "  print(\"The trial best is: \",  bestsc)\n",
        "  samples = [np.mean( bestsc) for _ in range(tr)]\n",
        "  print(\"The avarage is: \",  samples)\n",
        "  \n",
        " \n",
        "plt.plot(samples)\n",
        "plt.show()\n"
      ],
      "execution_count": 5,
      "outputs": [
        {
          "output_type": "stream",
          "text": [
            "Enter the number of trials: 3\n",
            "The best solution is:  25.787125208181813  in iteration number:  1\n",
            "The best solution is:  25.787125208181813  in iteration number:  2\n",
            "The opt  is:  25.787125208181813\n",
            "The trial best is:  25.787125208181813\n",
            "The avarage is:  [25.787125208181813, 25.787125208181813, 25.787125208181813]\n",
            "The best solution is:  5.766963227562002  in iteration number:  1\n",
            "The best solution is:  5.766963227562002  in iteration number:  2\n",
            "The opt  is:  5.766963227562002\n",
            "The trial best is:  5.766963227562002\n",
            "The avarage is:  [5.766963227562002, 5.766963227562002, 5.766963227562002]\n",
            "The best solution is:  10.223939919739166  in iteration number:  1\n",
            "The best solution is:  10.223939919739166  in iteration number:  2\n",
            "The opt  is:  10.223939919739166\n",
            "The trial best is:  10.223939919739166\n",
            "The avarage is:  [10.223939919739166, 10.223939919739166, 10.223939919739166]\n"
          ],
          "name": "stdout"
        },
        {
          "output_type": "display_data",
          "data": {
            "image/png": "[encoded data removed]",
            "text/plain": [
              "<Figure size 432x288 with 1 Axes>"
            ]
          },
          "metadata": {
            "tags": [],
            "needs_background": "light"
          }
        }
      ]
    }
  ]
}